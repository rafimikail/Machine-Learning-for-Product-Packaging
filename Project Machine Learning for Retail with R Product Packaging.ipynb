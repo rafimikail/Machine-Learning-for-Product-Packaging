{
 "cells": [
  {
   "cell_type": "markdown",
   "metadata": {},
   "source": [
    "# Create Next Best Offering to Drive Revenue and Loyalty"
   ]
  },
  {
   "cell_type": "markdown",
   "metadata": {},
   "source": [
    "DQLab.id Fashion is a fashion store that sells various products such as jeans, shirts, cosmetics, and others. Even though it is quite developed, with the increasing number of competitors and many products that are still in stock, it certainly worries Mr. Agus, the manager of DQLab.id Fashion.\n",
    "\n",
    "One solution is to create innovative packages. Where products that were previously not selling well but had market share could be packaged and sold.\n",
    "\n",
    "As a data scientist, you will be assigned to help Pak Agus to identify interesting product packages to package so that in the end it can increase the profits and loyalty of DQLab.id Fashion customers. And to accomplish this, we'll be using R and the a prioriary algorithm from the arules package throughout this project.\n",
    "\n",
    "Dataset from DQLAB Data Science Course"
   ]
  },
  {
   "cell_type": "markdown",
   "metadata": {},
   "source": [
    "# DQLab.id Fashion Sales Transaction Dataset"
   ]
  },
  {
   "cell_type": "markdown",
   "metadata": {},
   "source": [
    "Our data, called transaction_dqlab_retail.tsv, is a TSV (Tab Separated Value) file format which contains 3 months data of transactions with 33,669 lines of data (3,450 transaction codes)."
   ]
  },
  {
   "cell_type": "markdown",
   "metadata": {},
   "source": [
    "# Project Completion Instructions"
   ]
  },
  {
   "cell_type": "markdown",
   "metadata": {},
   "source": [
    "in completing this project we will go through 3 main steps, they are :\n",
    "\n",
    "1.Get top 10 of products sold \n",
    "\n",
    "2.Get top 10 of products sold from bottom\n",
    "\n",
    "2.Get a list of all product package combinations with strong correlations\n",
    "\n",
    "3.Get a list of all product package combinations with specific items"
   ]
  },
  {
   "cell_type": "code",
   "execution_count": 3,
   "metadata": {},
   "outputs": [],
   "source": [
    "#install.packages(\"arules\")\n",
    "\n",
    "library(arules)\n",
    "transaksi_tabular <- read.transactions(file=\"transaksi_dqlab_retail.tsv\", format=\"single\", sep=\"\\t\", cols=c(1,2), skip=1)\n",
    "write(transaksi_tabular, file=\"test_project_retail_1.txt\", sep=\",\")"
   ]
  },
  {
   "cell_type": "markdown",
   "metadata": {},
   "source": [
    "# 1. Get top 10 of products sold "
   ]
  },
  {
   "cell_type": "markdown",
   "metadata": {},
   "source": [
    "Create an R script to generate the list of top 10 products sold, and save the results in the file top10_item_retail.txt.\n",
    "Use the dataset transaction_dqlab_retail.tsv when reading data."
   ]
  },
  {
   "cell_type": "code",
   "execution_count": 28,
   "metadata": {},
   "outputs": [
    {
     "name": "stdout",
     "output_type": "stream",
     "text": [
      "                 Nama.Produk Jumlah\n",
      "1               Shampo Biasa   2075\n",
      "2              Serum Vitamin   1685\n",
      "3          Baju Batik Wanita   1312\n",
      "4          Baju Kemeja Putih   1255\n",
      "5       Celana Jogger Casual   1136\n",
      "6                Cover Koper   1086\n",
      "7         Sepatu Sandal Anak   1062\n",
      "8  Tali Pinggang Gesper Pria   1003\n",
      "9        Sepatu Sport merk Z    888\n",
      "10              Wedges Hitam    849\n"
     ]
    }
   ],
   "source": [
    "library(arules)\n",
    "transaksi <- read.transactions(file=\"transaksi_dqlab_retail.tsv\", format=\"single\", sep=\"\\t\", cols=c(1,2), skip=1)\n",
    "data_item <- itemFrequency(transaksi, type=\"absolute\")\n",
    "data_item <- sort(data_item, decreasing = TRUE)\n",
    "data_item <- data_item[1:10]\n",
    "data_item <- data.frame(\"Nama Produk\"=names(data_item), \"Jumlah\"=data_item, row.names=NULL)\n",
    "print(data_item)\n",
    "write.csv(data_item, file=\"top10_item_retail.txt\")"
   ]
  },
  {
   "cell_type": "markdown",
   "metadata": {},
   "source": [
    "# Getting top 10 of products sold from bottom"
   ]
  },
  {
   "cell_type": "markdown",
   "metadata": {},
   "source": [
    "The next stage is that generating list of top 10 products from bottom from the given transaction dataset and the results are saved in the file bottom10_item_retail.txt.\n",
    "\n"
   ]
  },
  {
   "cell_type": "code",
   "execution_count": 25,
   "metadata": {},
   "outputs": [
    {
     "name": "stdout",
     "output_type": "stream",
     "text": [
      "                 Nama.Produk Jumlah\n",
      "1               Shampo Biasa   2075\n",
      "2              Serum Vitamin   1685\n",
      "3          Baju Batik Wanita   1312\n",
      "4          Baju Kemeja Putih   1255\n",
      "5       Celana Jogger Casual   1136\n",
      "6                Cover Koper   1086\n",
      "7         Sepatu Sandal Anak   1062\n",
      "8  Tali Pinggang Gesper Pria   1003\n",
      "9        Sepatu Sport merk Z    888\n",
      "10              Wedges Hitam    849\n"
     ]
    }
   ],
   "source": [
    "library(arules)\n",
    "transaksi <- read.transactions(file=\"transaksi_dqlab_retail.tsv\", format=\"single\", sep=\"\\t\", cols=c(1,2), skip=1)\n",
    "data_item <- itemFrequency(transaksi, type=\"absolute\")\n",
    "data_item <- sort(data_item, decreasing = TRUE)\n",
    "data_item <- data_item[1:10]\n",
    "data_item <- data.frame(\"Nama Produk\"=names(data_item), \"Jumlah\"=data_item, row.names=NULL)\n",
    "print(data_item)\n",
    "write.csv(data_item, file=\"top10_item_retail.txt\")"
   ]
  },
  {
   "cell_type": "markdown",
   "metadata": {},
   "source": [
    "# Getting interesting product combinations"
   ]
  },
  {
   "cell_type": "markdown",
   "metadata": {},
   "source": [
    "Once we are sure you can do it Mr. Agus would like you to send a file containing a list of the 10 most \"interesting\" product combination packages.\n",
    "\n",
    "The definition of interesting combination product packages according to Mr. Agus is the following characteristics :\n",
    "\n",
    "Having a close association or relationship, minimum product combination of 2 items and maximum 3 items,the product combination appeared in at least 10 of all transactions, have a confidence level of at least 50 percent.\n",
    "\n",
    "\n",
    "To find a good product combination, we will use one of the most known unsupervised algorithms called apriori algorithm. 3 important terms that are known in the algorithm a priori:\n",
    "\n",
    "1.Support\n",
    "This says how popular an itemset is, as measured by the proportion of transactions in which an itemset appears.\n",
    "\n",
    "2.Confidence\n",
    "his says how likely item Y is purchased when item X is purchased\n",
    "\n",
    "3.Elevator\n",
    "This says how likely item Y is purchased when item X is purchased, while controlling for how popular item Y is.\n",
    "\n",
    "\n",
    "At this time, because the criteria for an interesting combination product according to Mr. Agus are at least 10 times out of all transactions, the support value must be 10 / the number of transactions. Then have a confidence value of at least 50 percent, then we use a conf value with a value of 0.5\n",
    "\n"
   ]
  },
  {
   "cell_type": "code",
   "execution_count": 27,
   "metadata": {},
   "outputs": [
    {
     "name": "stdout",
     "output_type": "stream",
     "text": [
      "Apriori\n",
      "\n",
      "Parameter specification:\n",
      " confidence minval smax arem  aval originalSupport maxtime     support minlen\n",
      "        0.5    0.1    1 none FALSE            TRUE       5 0.002898551      2\n",
      " maxlen target  ext\n",
      "      3  rules TRUE\n",
      "\n",
      "Algorithmic control:\n",
      " filter tree heap memopt load sort verbose\n",
      "    0.1 TRUE TRUE  FALSE TRUE    2    TRUE\n",
      "\n",
      "Absolute minimum support count: 10 \n",
      "\n",
      "set item appearances ...[0 item(s)] done [0.00s].\n",
      "set transactions ...[69 item(s), 3450 transaction(s)] done [0.00s].\n",
      "sorting and recoding items ... [68 item(s)] done [0.00s].\n",
      "creating transaction tree ... done [0.00s].\n",
      "checking subsets of size 1 2 3"
     ]
    },
    {
     "name": "stderr",
     "output_type": "stream",
     "text": [
      "Warning message in apriori(transaksi_tabular, parameter = list(supp = 10/length(transaksi_tabular), :\n",
      "\"Mining stopped (maxlen reached). Only patterns up to a length of 3 returned!\""
     ]
    },
    {
     "name": "stdout",
     "output_type": "stream",
     "text": [
      " done [0.01s].\n",
      "writing ... [4637 rule(s)] done [0.00s].\n",
      "creating S4 object  ... done [0.00s].\n",
      "     lhs                             rhs                              support confidence    coverage     lift count\n",
      "[1]  {Tas Makeup,                                                                                                  \n",
      "      Tas Pinggang Wanita}        => {Baju Renang Anak Perempuan} 0.010434783  0.8780488 0.011884058 24.42958    36\n",
      "[2]  {Tas Makeup,                                                                                                  \n",
      "      Tas Travel}                 => {Baju Renang Anak Perempuan} 0.010144928  0.8139535 0.012463768 22.64629    35\n",
      "[3]  {Tas Makeup,                                                                                                  \n",
      "      Tas Ransel Mini}            => {Baju Renang Anak Perempuan} 0.011304348  0.7358491 0.015362319 20.47322    39\n",
      "[4]  {Sunblock Cream,                                                                                              \n",
      "      Tas Pinggang Wanita}        => {Kuas Makeup }               0.016231884  0.6913580 0.023478261 20.21343    56\n",
      "[5]  {Baju Renang Anak Perempuan,                                                                                  \n",
      "      Tas Pinggang Wanita}        => {Tas Makeup}                 0.010434783  0.8000000 0.013043478 19.57447    36\n",
      "[6]  {Baju Renang Anak Perempuan,                                                                                  \n",
      "      Tas Ransel Mini}            => {Tas Makeup}                 0.011304348  0.7959184 0.014202899 19.47460    39\n",
      "[7]  {Baju Renang Anak Perempuan,                                                                                  \n",
      "      Celana Pendek Green/Hijau}  => {Tas Makeup}                 0.010144928  0.7777778 0.013043478 19.03073    35\n",
      "[8]  {Tas Makeup,                                                                                                  \n",
      "      Tas Waist Bag}              => {Baju Renang Anak Perempuan} 0.004347826  0.6818182 0.006376812 18.96994    15\n",
      "[9]  {Celana Pendek Green/Hijau,                                                                                   \n",
      "      Tas Makeup}                 => {Baju Renang Anak Perempuan} 0.010144928  0.6730769 0.015072464 18.72674    35\n",
      "[10] {Dompet Flip Cover,                                                                                           \n",
      "      Sunblock Cream}             => {Kuas Makeup }               0.016231884  0.6292135 0.025797101 18.39650    56\n"
     ]
    }
   ],
   "source": [
    "library(arules)\n",
    "nama_file <- \"transaksi_dqlab_retail.tsv\"\n",
    "transaksi_tabular <- read.transactions(file=nama_file, format=\"single\", sep=\"\\t\", cols=c(1,2), skip=1)\n",
    "apriori_rules <- apriori(transaksi_tabular, parameter= list(supp=10/length(transaksi_tabular), conf=0.5, minlen=2, maxlen=3))\n",
    "apriori_rules <- head(sort(apriori_rules, by='lift', decreasing = T),n=10)\n",
    "inspect(apriori_rules)\n",
    "write(apriori_rules, file=\"kombinasi_retail.txt\")"
   ]
  },
  {
   "cell_type": "markdown",
   "metadata": {},
   "source": [
    "# Looking for Product Packages that can be paired with Slow-Moving Items"
   ]
  },
  {
   "cell_type": "markdown",
   "metadata": {},
   "source": [
    "Slow-moving items are products whose sales movement is slow or not fast enough. This will be problematic if the product items are still piled up.\n",
    "\n",
    "Because these items are difficult to sell individually, we need to look for strong associations of this product item with other products so that if it is packaged it will be more attractive.\n",
    "\n",
    "Pak Agus also believes in this, and wants you to help identify two product items that he thinks are still in large stock and need to find pairs of items for packaging.\n",
    "\n",
    "The two product items are a \"Tas Makeup\" and a \"Baju Renang Pria Anak-anak\". Pak Agus wants to ask for a combination that can be bundled with the two products.\n",
    "\n",
    "Each product is issued 3 rules with the strongest association, so there are 6 rules in total. The requirements for this strong association are still the same as those mentioned earlier by Pak Agus, except that the confidence level is tried at a minimum level of 0.1.\n",
    "\n",
    "Create an R script to generate the list and the results are saved in the file combination_retail_slow_moving.txt. And to generate this file, rules don't need to be converted into a data frame and can be written directly by writing like the following syntax."
   ]
  },
  {
   "cell_type": "code",
   "execution_count": 11,
   "metadata": {},
   "outputs": [
    {
     "name": "stdout",
     "output_type": "stream",
     "text": [
      "Apriori\n",
      "\n",
      "Parameter specification:\n",
      " confidence minval smax arem  aval originalSupport maxtime     support minlen\n",
      "        0.1    0.1    1 none FALSE            TRUE       5 0.002898551      2\n",
      " maxlen target  ext\n",
      "      3  rules TRUE\n",
      "\n",
      "Algorithmic control:\n",
      " filter tree heap memopt load sort verbose\n",
      "    0.1 TRUE TRUE  FALSE TRUE    2    TRUE\n",
      "\n",
      "Absolute minimum support count: 10 \n",
      "\n",
      "set item appearances ...[0 item(s)] done [0.00s].\n",
      "set transactions ...[69 item(s), 3450 transaction(s)] done [0.00s].\n",
      "sorting and recoding items ... [68 item(s)] done [0.00s].\n",
      "creating transaction tree ... done [0.00s].\n",
      "checking subsets of size 1 2 3"
     ]
    },
    {
     "name": "stderr",
     "output_type": "stream",
     "text": [
      "Warning message in apriori(transaksi_tabular, parameter = list(supp = 10/length(transaksi_tabular), :\n",
      "\"Mining stopped (maxlen reached). Only patterns up to a length of 3 returned!\""
     ]
    },
    {
     "name": "stdout",
     "output_type": "stream",
     "text": [
      " done [0.01s].\n",
      "writing ... [39832 rule(s)] done [0.00s].\n",
      "creating S4 object  ... done [0.01s].\n"
     ]
    }
   ],
   "source": [
    "library(arules)\n",
    "transaksi_tabular <- read.transactions(file=\"transaksi_dqlab_retail.tsv\", format = \"single\", sep= \"\\t\", cols=c(1,2), skip=1)\n",
    "mba2 <- apriori(transaksi_tabular, parameter = list(supp = 10/length(transaksi_tabular), confidence = 0.1, minlen = 2, maxlen = 3))\n",
    "\n",
    "#subset tas makeup\n",
    "mba_1 <- subset(mba2, rhs %in% \"Tas Makeup\")\n",
    "mba_1 <- head(sort(mba_1, by=\"lift\", decreasing=TRUE), n=3)\n",
    "\n",
    "#subset baju renang pria anak-anak\n",
    "mba_2 <- subset(mba2, rhs %in% \"Baju Renang Pria Anak-anak\")\n",
    "mba_2 <- head(sort(mba_2, by=\"lift\", decreasing=TRUE), n=3)\n",
    "\n",
    "mba2 <- c(mba_1,mba_2)\n",
    "write(mba2, file=\"kombinasi_retail_slow_moving.txt\")"
   ]
  },
  {
   "cell_type": "code",
   "execution_count": null,
   "metadata": {},
   "outputs": [],
   "source": []
  }
 ],
 "metadata": {
  "kernelspec": {
   "display_name": "R",
   "language": "R",
   "name": "ir"
  },
  "language_info": {
   "codemirror_mode": "r",
   "file_extension": ".r",
   "mimetype": "text/x-r-source",
   "name": "R",
   "pygments_lexer": "r",
   "version": "3.6.1"
  }
 },
 "nbformat": 4,
 "nbformat_minor": 4
}
